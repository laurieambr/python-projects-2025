{
 "cells": [
  {
   "cell_type": "code",
   "execution_count": 55,
   "id": "6707c17d-c7fa-4ad3-91de-d875aa3c2cbc",
   "metadata": {},
   "outputs": [
    {
     "name": "stdout",
     "output_type": "stream",
     "text": [
      "Trades totaux : 28\n",
      "Trades gagnants : 28\n",
      "Gain total : 75.00\n",
      "Pourcentage de gain : 0.07%\n"
     ]
    }
   ],
   "source": [
    "import pandas as pd\n",
    "import matplotlib.pyplot as plt\n",
    "import pandas_ta as ta\n",
    "\n",
    "# On lit et on met en forme le dataframe\n",
    "# Séparation des colonnes csv, renommage des colonnes, suppression de la première ligne comme header\n",
    "df = pd.read_csv(\"data/nzd_4h.csv\",  sep=\"\\t\", names=['hour', 'open', 'high', 'low', 'close', 'tick', 'volume', 'spread'], header=0)\n",
    "\n",
    "# On type la colonne date en datetime\n",
    "df['datetime'] = pd.to_datetime(df.index + ' ' + df['hour'])\n",
    "df['datetime'] = pd.to_datetime(df['datetime'],  format='%Y.%m.%d %H:%M')\n",
    "\n",
    "# On set l'index à la colonne date\n",
    "df.set_index('datetime', inplace=True)\n",
    "\n",
    "# On garde uniquement la colonne close pour la stratégie\n",
    "df = df[[ 'close']]\n",
    "\n",
    "# Calcul du RSI\n",
    "df['rsi'] = ta.rsi(df['close'], length=14)\n",
    "\n",
    "df['signal'] = 0\n",
    "\n",
    "# Signal d'achat\n",
    "cross_up = (df['rsi'].shift(1) < 30) & (df['rsi'] > 30)\n",
    "df.loc[cross_up, 'signal'] = 1\n",
    "# Signal de vente\n",
    "cross_down = (df['rsi'].shift(1) > 70) & (df['rsi'] < 70)\n",
    "df.loc[cross_down, 'signal'] = -1\n",
    "\n",
    "# On récupère le % de variation entre chaque trade\n",
    "df['returns'] = df['close'].pct_change()\n",
    "\n",
    "trades = []\n",
    "in_trade = False\n",
    "entry_index = None\n",
    "\n",
    "for i in range(len(df)):\n",
    "    row = df.iloc[i]\n",
    "    \n",
    "    if row['signal'] == 1 and not in_trade:\n",
    "        entry_index = i\n",
    "        in_trade = True\n",
    "\n",
    "    elif row['signal'] == -1 and in_trade:\n",
    "        exit_index = i\n",
    "        in_trade = False\n",
    "\n",
    "        # Extraire les retours entre entrée et sortie\n",
    "        returns_slice = df['returns'].iloc[entry_index + 1 : exit_index + 1]\n",
    "        trade_return = (1 + returns_slice).prod() - 1\n",
    "\n",
    "        trades.append({\n",
    "            'entry_date': df.index[entry_index],\n",
    "            'exit_date': df.index[exit_index],\n",
    "            'entry_price': df['close'].iloc[entry_index],\n",
    "            'exit_price': df['close'].iloc[exit_index],\n",
    "            'return': trade_return\n",
    "        })\n",
    "        \n",
    "\n",
    "# On supprimes les lignes qui posssèdent des valeurs nulles\n",
    "df = df.dropna()\n",
    "\n",
    "trades_df = pd.DataFrame(trades)\n",
    "\n",
    "total_trades = len(trades_df)\n",
    "gagnants = trades_df[trades_df['return'] > 0].shape[0]\n",
    "winrate = (gagnants / total_trades) * 100\n",
    "total_gain = (1 + trades_df['return']).prod() - 1\n",
    "\n",
    "print(f\"Trades totaux : {sum_trades}\")\n",
    "print(f\"Trades gagnants : {sum_win_trades}\")\n",
    "print(f\"Gain total : {winrate:.2f}\")\n",
    "print(f\"Pourcentage de gain : {total_gain:.2f}%\")\n",
    "\n"
   ]
  },
  {
   "cell_type": "code",
   "execution_count": null,
   "id": "0f6d02c5-4abe-4a2d-8e50-98d97da5e636",
   "metadata": {},
   "outputs": [],
   "source": []
  }
 ],
 "metadata": {
  "kernelspec": {
   "display_name": "Python 3 (ipykernel)",
   "language": "python",
   "name": "python3"
  },
  "language_info": {
   "codemirror_mode": {
    "name": "ipython",
    "version": 3
   },
   "file_extension": ".py",
   "mimetype": "text/x-python",
   "name": "python",
   "nbconvert_exporter": "python",
   "pygments_lexer": "ipython3",
   "version": "3.12.4"
  }
 },
 "nbformat": 4,
 "nbformat_minor": 5
}
